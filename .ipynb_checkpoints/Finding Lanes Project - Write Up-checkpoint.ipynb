{
 "cells": [
  {
   "cell_type": "markdown",
   "metadata": {},
   "source": [
    "# Finding Lanes Project - Write Up"
   ]
  },
  {
   "cell_type": "markdown",
   "metadata": {},
   "source": [
    "## 1) Pipeline"
   ]
  },
  {
   "cell_type": "markdown",
   "metadata": {},
   "source": [
    "### The pipeline consists of the following image transformation methods:\n",
    "\n",
    "### a) Conversion to gray scale image\n",
    "### b) Gaussian Blur with kernel size 5 and using canny edge detection to extract the lane lines\n",
    "### c) Choosing a region of interest to extract only the lane lines and masking the remaining part of the image\n",
    "### d) Creating Hough lines to draw the lines on the image\n",
    "### e) Creating the final weighted image by overlaying the original image with the lines image"
   ]
  },
  {
   "cell_type": "markdown",
   "metadata": {},
   "source": [
    "### Here is an image of the lane markings obtained from image processing\n",
    "![Image 1](test_images_output/solidyellowcurve2.jpg)"
   ]
  },
  {
   "cell_type": "markdown",
   "metadata": {},
   "source": [
    "## Modified draw_lines function"
   ]
  },
  {
   "cell_type": "markdown",
   "metadata": {},
   "source": [
    "### a) To draw a single line on the left and right lanes, the averaging method is used.\n",
    "### b) The x and y coordinates of all the points which define lines from hough lines are used.\n",
    "### c) Based on the slope value (y2-y1)/(x2-x1) the points are segregated to be left or right.\n",
    "### d) Then all the intercepts are also segregated for left and right using (y-slope**x).\n",
    "### e) The mean of all the slopes and intercepts for each side are calculated.\n",
    "### f)  The max and min 'y' coordinate values on each side are obtained.\n",
    "### g) The 'x' coordinates for the single line are obtained by (x = (y - intercept)/Slope)\n",
    "### h) Lines are drawn on the original image using weighted image function\n",
    "\n",
    "### Here is the image with single line\n",
    "![Solid Yellow Curve New](test_images_output/solidyellowcurve2new.jpg)"
   ]
  },
  {
   "cell_type": "markdown",
   "metadata": {},
   "source": [
    "## Shortcomings of the pipeline:\n",
    "\n",
    "### The canny edge detection from a gray scale image brings out unnecessary edges which will need further filtering.\n",
    "### The draw lines function has to be more accurate to show the lane lines in parallel\n",
    "\n",
    "## Improvements:\n",
    "### Instead of edge based detection, maybe yellow/white color based line detection will be better at accurately finding the lanes and draw the lane lines which can eliminate lot of unnecessary edges"
   ]
  }
 ],
 "metadata": {
  "kernelspec": {
   "display_name": "Python 3",
   "language": "python",
   "name": "python3"
  },
  "language_info": {
   "codemirror_mode": {
    "name": "ipython",
    "version": 3
   },
   "file_extension": ".py",
   "mimetype": "text/x-python",
   "name": "python",
   "nbconvert_exporter": "python",
   "pygments_lexer": "ipython3",
   "version": "3.7.9"
  }
 },
 "nbformat": 4,
 "nbformat_minor": 4
}
